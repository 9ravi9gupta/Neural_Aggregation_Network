{
 "cells": [
  {
   "cell_type": "markdown",
   "metadata": {
    "colab_type": "text",
    "id": "52PzfA7IlUH-"
   },
   "source": [
    "# **Feature Extractor**"
   ]
  },
  {
   "cell_type": "code",
   "execution_count": 1,
   "metadata": {
    "colab": {
     "base_uri": "https://localhost:8080/",
     "height": 120
    },
    "colab_type": "code",
    "id": "R2ph4uH_qtHj",
    "outputId": "30d4162c-b82e-4310-a415-cb7f14805235"
   },
   "outputs": [
    {
     "name": "stdout",
     "output_type": "stream",
     "text": [
      "Go to this URL in a browser: https://accounts.google.com/o/oauth2/auth?client_id=947318989803-6bn6qk8qdgf4n4g3pfee6491hc0brc4i.apps.googleusercontent.com&redirect_uri=urn%3Aietf%3Awg%3Aoauth%3A2.0%3Aoob&scope=email%20https%3A%2F%2Fwww.googleapis.com%2Fauth%2Fdocs.test%20https%3A%2F%2Fwww.googleapis.com%2Fauth%2Fdrive%20https%3A%2F%2Fwww.googleapis.com%2Fauth%2Fdrive.photos.readonly%20https%3A%2F%2Fwww.googleapis.com%2Fauth%2Fpeopleapi.readonly&response_type=code\n",
      "\n",
      "Enter your authorization code:\n",
      "··········\n",
      "Mounted at ./drive\n"
     ]
    }
   ],
   "source": [
    "from google.colab import drive\n",
    "drive.mount('./drive')"
   ]
  },
  {
   "cell_type": "code",
   "execution_count": 2,
   "metadata": {
    "colab": {
     "base_uri": "https://localhost:8080/",
     "height": 33
    },
    "colab_type": "code",
    "id": "NkuPdjmNlTSd",
    "outputId": "b04fb6b3-bc5b-4930-a320-e2164573c2fc"
   },
   "outputs": [
    {
     "name": "stderr",
     "output_type": "stream",
     "text": [
      "Using TensorFlow backend.\n"
     ]
    }
   ],
   "source": [
    "from keras import models\n",
    "\n",
    "class feature_extractor():\n",
    "    \n",
    "    def load_model(self):\n",
    "    \n",
    "    \n",
    "    with open('drive/My Drive/dataset/model_arch.yaml', 'r') as yaml_file:\n",
    "        model_arch = yaml_file.read()\n",
    "\n",
    "  \n",
    "    model_1 = models.model_from_yaml(model_arch)\n",
    "    model_1.load_weights('drive/My Drive/dataset/model_weights.hdf5')\n",
    "    \n",
    "    \n",
    "    # removing output Dense layer (which containing 7 neurons)\n",
    "    model_1.pop()\n",
    "    \n",
    "   \n",
    "    \n",
    "    return(model_1)"
   ]
  },
  {
   "cell_type": "code",
   "execution_count": 0,
   "metadata": {
    "colab": {},
    "colab_type": "code",
    "id": "L-ocH-24lS-b"
   },
   "outputs": [],
   "source": []
  },
  {
   "cell_type": "code",
   "execution_count": 0,
   "metadata": {
    "colab": {},
    "colab_type": "code",
    "id": "QGnHRQtZlS7k"
   },
   "outputs": [],
   "source": []
  },
  {
   "cell_type": "markdown",
   "metadata": {
    "colab_type": "text",
    "id": "Gnc9z3QSmoZd"
   },
   "source": [
    "# **DataSet Loader**"
   ]
  },
  {
   "cell_type": "code",
   "execution_count": 0,
   "metadata": {
    "colab": {},
    "colab_type": "code",
    "id": "qzr74Eczgqon"
   },
   "outputs": [],
   "source": [
    "import numpy as np\n",
    "import os\n",
    "import matplotlib.pyplot as plt\n",
    "import pandas as pd\n",
    "from keras.preprocessing import image\n",
    "from keras.utils import to_categorical\n"
   ]
  },
  {
   "cell_type": "code",
   "execution_count": 0,
   "metadata": {
    "colab": {},
    "colab_type": "code",
    "id": "Ck43VUS-fcbq"
   },
   "outputs": [],
   "source": [
    "X_train = np.load('drive/My Drive/dataset/X_train.npy')\n",
    "Y_train = np.load('drive/My Drive/dataset/y_train.npy')"
   ]
  },
  {
   "cell_type": "code",
   "execution_count": 0,
   "metadata": {
    "colab": {},
    "colab_type": "code",
    "id": "PiQFUTiIgTcs"
   },
   "outputs": [],
   "source": [
    "os.mkdir('images')\n",
    "\n",
    "for i in range(X_train.shape[0]):\n",
    "    img = X_train[i].reshape(50,37)\n",
    "    filename = 'images'+'/train_Img_'+ str(i+1) + '.png'\n",
    "    plt.imsave(filename,img)"
   ]
  },
  {
   "cell_type": "code",
   "execution_count": null,
   "metadata": {},
   "outputs": [],
   "source": [
    "train_imgs = os.listdir('images')\n",
    "reshaped_train_imgs = []\n",
    "\n",
    "for img_name in train_imgs:\n",
    "    file_dir = 'images/' + img_name\n",
    "    img = image.load_img(file_dir,target_size=(224,224))\n",
    "    img = image.img_to_array(img)\n",
    "    reshaped_train_imgs.append(img)\n",
    "  \n",
    "  \n",
    "train_x = np.stack(reshaped_train_imgs)  #--stacking up the images into batches\n",
    "train_y = to_categorical(Y_train)        #---one hot encoding of the labels"
   ]
  },
  {
   "cell_type": "code",
   "execution_count": 6,
   "metadata": {
    "colab": {
     "base_uri": "https://localhost:8080/",
     "height": 245
    },
    "colab_type": "code",
    "id": "mc-cZeEzgTZ0",
    "outputId": "8d449369-c6ff-4e89-d64f-e8fa9e10f61f"
   },
   "outputs": [
    {
     "data": {
      "text/html": [
       "<div>\n",
       "<style scoped>\n",
       "    .dataframe tbody tr th:only-of-type {\n",
       "        vertical-align: middle;\n",
       "    }\n",
       "\n",
       "    .dataframe tbody tr th {\n",
       "        vertical-align: top;\n",
       "    }\n",
       "\n",
       "    .dataframe thead th {\n",
       "        text-align: right;\n",
       "    }\n",
       "</style>\n",
       "<table border=\"1\" class=\"dataframe\">\n",
       "  <thead>\n",
       "    <tr style=\"text-align: right;\">\n",
       "      <th></th>\n",
       "      <th>0</th>\n",
       "      <th>1</th>\n",
       "      <th>2</th>\n",
       "      <th>3</th>\n",
       "      <th>4</th>\n",
       "      <th>5</th>\n",
       "      <th>6</th>\n",
       "      <th>7</th>\n",
       "      <th>8</th>\n",
       "      <th>9</th>\n",
       "      <th>...</th>\n",
       "      <th>150519</th>\n",
       "      <th>150520</th>\n",
       "      <th>150521</th>\n",
       "      <th>150522</th>\n",
       "      <th>150523</th>\n",
       "      <th>150524</th>\n",
       "      <th>150525</th>\n",
       "      <th>150526</th>\n",
       "      <th>150527</th>\n",
       "      <th>label</th>\n",
       "    </tr>\n",
       "  </thead>\n",
       "  <tbody>\n",
       "    <tr>\n",
       "      <th>0</th>\n",
       "      <td>49.0</td>\n",
       "      <td>100.0</td>\n",
       "      <td>141.0</td>\n",
       "      <td>49.0</td>\n",
       "      <td>100.0</td>\n",
       "      <td>141.0</td>\n",
       "      <td>49.0</td>\n",
       "      <td>100.0</td>\n",
       "      <td>141.0</td>\n",
       "      <td>49.0</td>\n",
       "      <td>...</td>\n",
       "      <td>36.0</td>\n",
       "      <td>170.0</td>\n",
       "      <td>130.0</td>\n",
       "      <td>36.0</td>\n",
       "      <td>170.0</td>\n",
       "      <td>130.0</td>\n",
       "      <td>36.0</td>\n",
       "      <td>170.0</td>\n",
       "      <td>130.0</td>\n",
       "      <td>5</td>\n",
       "    </tr>\n",
       "    <tr>\n",
       "      <th>1</th>\n",
       "      <td>30.0</td>\n",
       "      <td>153.0</td>\n",
       "      <td>138.0</td>\n",
       "      <td>30.0</td>\n",
       "      <td>153.0</td>\n",
       "      <td>138.0</td>\n",
       "      <td>30.0</td>\n",
       "      <td>153.0</td>\n",
       "      <td>138.0</td>\n",
       "      <td>30.0</td>\n",
       "      <td>...</td>\n",
       "      <td>36.0</td>\n",
       "      <td>170.0</td>\n",
       "      <td>130.0</td>\n",
       "      <td>36.0</td>\n",
       "      <td>170.0</td>\n",
       "      <td>130.0</td>\n",
       "      <td>36.0</td>\n",
       "      <td>170.0</td>\n",
       "      <td>130.0</td>\n",
       "      <td>0</td>\n",
       "    </tr>\n",
       "    <tr>\n",
       "      <th>2</th>\n",
       "      <td>52.0</td>\n",
       "      <td>95.0</td>\n",
       "      <td>141.0</td>\n",
       "      <td>52.0</td>\n",
       "      <td>95.0</td>\n",
       "      <td>141.0</td>\n",
       "      <td>52.0</td>\n",
       "      <td>95.0</td>\n",
       "      <td>141.0</td>\n",
       "      <td>52.0</td>\n",
       "      <td>...</td>\n",
       "      <td>71.0</td>\n",
       "      <td>38.0</td>\n",
       "      <td>118.0</td>\n",
       "      <td>71.0</td>\n",
       "      <td>38.0</td>\n",
       "      <td>118.0</td>\n",
       "      <td>71.0</td>\n",
       "      <td>38.0</td>\n",
       "      <td>118.0</td>\n",
       "      <td>2</td>\n",
       "    </tr>\n",
       "    <tr>\n",
       "      <th>3</th>\n",
       "      <td>69.0</td>\n",
       "      <td>52.0</td>\n",
       "      <td>127.0</td>\n",
       "      <td>69.0</td>\n",
       "      <td>52.0</td>\n",
       "      <td>127.0</td>\n",
       "      <td>69.0</td>\n",
       "      <td>52.0</td>\n",
       "      <td>127.0</td>\n",
       "      <td>69.0</td>\n",
       "      <td>...</td>\n",
       "      <td>246.0</td>\n",
       "      <td>230.0</td>\n",
       "      <td>31.0</td>\n",
       "      <td>246.0</td>\n",
       "      <td>230.0</td>\n",
       "      <td>31.0</td>\n",
       "      <td>246.0</td>\n",
       "      <td>230.0</td>\n",
       "      <td>31.0</td>\n",
       "      <td>3</td>\n",
       "    </tr>\n",
       "    <tr>\n",
       "      <th>4</th>\n",
       "      <td>71.0</td>\n",
       "      <td>192.0</td>\n",
       "      <td>110.0</td>\n",
       "      <td>71.0</td>\n",
       "      <td>192.0</td>\n",
       "      <td>110.0</td>\n",
       "      <td>71.0</td>\n",
       "      <td>192.0</td>\n",
       "      <td>110.0</td>\n",
       "      <td>71.0</td>\n",
       "      <td>...</td>\n",
       "      <td>207.0</td>\n",
       "      <td>225.0</td>\n",
       "      <td>28.0</td>\n",
       "      <td>207.0</td>\n",
       "      <td>225.0</td>\n",
       "      <td>28.0</td>\n",
       "      <td>207.0</td>\n",
       "      <td>225.0</td>\n",
       "      <td>28.0</td>\n",
       "      <td>5</td>\n",
       "    </tr>\n",
       "  </tbody>\n",
       "</table>\n",
       "<p>5 rows × 150529 columns</p>\n",
       "</div>"
      ],
      "text/plain": [
       "      0      1      2     3      4      5     6      7      8     9  ...  \\\n",
       "0  49.0  100.0  141.0  49.0  100.0  141.0  49.0  100.0  141.0  49.0  ...   \n",
       "1  30.0  153.0  138.0  30.0  153.0  138.0  30.0  153.0  138.0  30.0  ...   \n",
       "2  52.0   95.0  141.0  52.0   95.0  141.0  52.0   95.0  141.0  52.0  ...   \n",
       "3  69.0   52.0  127.0  69.0   52.0  127.0  69.0   52.0  127.0  69.0  ...   \n",
       "4  71.0  192.0  110.0  71.0  192.0  110.0  71.0  192.0  110.0  71.0  ...   \n",
       "\n",
       "   150519  150520  150521  150522  150523  150524  150525  150526  150527  \\\n",
       "0    36.0   170.0   130.0    36.0   170.0   130.0    36.0   170.0   130.0   \n",
       "1    36.0   170.0   130.0    36.0   170.0   130.0    36.0   170.0   130.0   \n",
       "2    71.0    38.0   118.0    71.0    38.0   118.0    71.0    38.0   118.0   \n",
       "3   246.0   230.0    31.0   246.0   230.0    31.0   246.0   230.0    31.0   \n",
       "4   207.0   225.0    28.0   207.0   225.0    28.0   207.0   225.0    28.0   \n",
       "\n",
       "   label  \n",
       "0      5  \n",
       "1      0  \n",
       "2      2  \n",
       "3      3  \n",
       "4      5  \n",
       "\n",
       "[5 rows x 150529 columns]"
      ]
     },
     "execution_count": 6,
     "metadata": {
      "tags": []
     },
     "output_type": "execute_result"
    }
   ],
   "source": [
    "data_reshaped = train_x.reshape((966,224*224*3))\n",
    "df = pd.DataFrame(data_reshaped)\n",
    "\n",
    "df['label'] = Y_train\n",
    "\n",
    "df.head()"
   ]
  },
  {
   "cell_type": "code",
   "execution_count": 0,
   "metadata": {
    "colab": {},
    "colab_type": "code",
    "id": "d3RUjr7ggTXD"
   },
   "outputs": [],
   "source": [
    "def dataset(group,class_num):\n",
    "    model_1 = feature_extractor().load_model()\n",
    " \n",
    "    feature_vectors = []\n",
    "\n",
    "\n",
    "    for i in range(0,class_num):  \n",
    "        desired_df = df[df['label']==i]\n",
    "        random_index = np.random.randint(low=0,high=desired_df.shape[0],size=(1,group))\n",
    "\n",
    "        data = desired_df.iloc[random_index[0], :-1]\n",
    "\n",
    "        data = np.array(data).reshape(group,224,224,3)\n",
    "        pred_arr = model_1.predict_on_batch(data)\n",
    "\n",
    "        feature_vectors.append(pred_arr)\n",
    "\n",
    "    \n",
    "    feature_vector_arr = np.concatenate(feature_vectors) \n",
    "    labels_arr = np.arange(class_num, dtype='int')\n",
    "  \n",
    "    return(feature_vector_arr, labels_arr)\n",
    "  "
   ]
  },
  {
   "cell_type": "code",
   "execution_count": 0,
   "metadata": {
    "colab": {},
    "colab_type": "code",
    "id": "H5TKUPaRgTMh"
   },
   "outputs": [],
   "source": []
  },
  {
   "cell_type": "markdown",
   "metadata": {
    "colab_type": "text",
    "id": "wjI9VtjCnFXz"
   },
   "source": [
    "# **Aggregation Module (Contain Attention Block)**"
   ]
  },
  {
   "cell_type": "code",
   "execution_count": 0,
   "metadata": {
    "colab": {},
    "colab_type": "code",
    "id": "U5bfc-9YgTJe"
   },
   "outputs": [],
   "source": [
    "batch_size= 7 #--7 different unique images\n",
    "feature_len= 128  #--128-d feature vector \n",
    "class_num= 7  #--total 7 class in output\n",
    "group= 5   #--taking 5 images for each person\n",
    " \n",
    "import tensorflow as tf\n",
    "import time\n",
    "\n",
    "\n",
    "input_x = tf.placeholder(tf.float32, shape = [batch_size*group, feature_len])\n",
    "label_x = tf.placeholder(tf.int32, shape = [batch_size, class_num]) "
   ]
  },
  {
   "cell_type": "code",
   "execution_count": 0,
   "metadata": {
    "colab": {},
    "colab_type": "code",
    "id": "G84I1nsSgTHU"
   },
   "outputs": [],
   "source": [
    "w1 = tf.get_variable(\"fc1/weights\", shape = [feature_len, feature_len], initializer = tf.random_normal_initializer(mean = 0.0, stddev = 1e-4))\n",
    "b1  = tf.get_variable(\"fc1/biases\", shape = [feature_len], initializer = tf.constant_initializer(0.0001))\n",
    "w2 = tf.get_variable(\"fc2/weights\", shape = [feature_len, class_num], initializer = tf.random_normal_initializer(mean = 0.0, stddev = 1e-4))\n",
    "b2 = tf.get_variable(\"fc2/biases\", shape = [class_num], initializer = tf.constant_initializer(0.0001))\n",
    "q_param = tf.get_variable(\"q0\", shape = [feature_len], initializer = tf.constant_initializer(0.0001))\n",
    "\n",
    "\n",
    "\n",
    "\n",
    "#attention module 1\n",
    "resize_input = input_x  #--35x128\n",
    "expand_param = tf.expand_dims(q_param, 1)  # 128x1\n",
    "\n",
    "temp = tf.matmul(resize_input, expand_param)  #--35x1\n",
    "temp = tf.reshape(temp, [batch_size, group])  #--7x5\n",
    "temp = tf.nn.softmax(temp)  #--7x5\n",
    "features = tf.split(axis = 0, num_or_size_splits = batch_size, value = input_x)  #--list of 7 elements of size 5x128\n",
    "temps = tf.split(axis = 0, num_or_size_splits = batch_size, value = temp)   #--list of 7 elements of size 1x5\n",
    "fusion = [tf.matmul(temps[i], features[i]) for i in range(batch_size)] #list of 7 elements of size 1x128\n",
    "r1 = tf.concat(axis = 0, values = fusion)  #--7x128\n",
    "\n",
    "#fc1 layer\n",
    "fc = tf.add(tf.matmul(r1, w1), b1, name = \"fc1\")  #--7x128\n",
    "tanh = tf.nn.tanh(fc)  #--7x128\n",
    "\n",
    "\n",
    "#attention module 2\n",
    "input_split = tf.split(axis = 0, num_or_size_splits = batch_size, value = input_x)  #--list of 7 elements of size 5x128\n",
    "q1_split = tf.split(axis = 0, num_or_size_splits = batch_size, value = tanh)  #--list of 7 elements of size 1x128(different kernel for each elements)\n",
    "q1_split = tf.reshape(q1_split, shape=[7,128,1])   #--change to 128x1\n",
    "a1 = [tf.tensordot(features[i], q1_split[i], 1) for i in range(batch_size)]   #--list of 7 elements of size 5x1\n",
    "a1_fusion = tf.concat(axis = 0, values = a1)      #--35x1\n",
    "e1 = tf.nn.softmax(a1_fusion)   #--35x1\n",
    "temp1 = tf.split(axis = 0, num_or_size_splits = batch_size, value = e1)   #--list of 7 elements of size 1x5\n",
    "fusion1 = [tf.matmul(temps[i], features[i]) for i in range(batch_size)]  #--list of 7 elements of size 1x128\n",
    "r2 = tf.concat(axis = 0, values = fusion)  #--7x128\n",
    "\n",
    "#fc2 layer\n",
    "predict = tf.add(tf.matmul(r2, w2), b2, name = \"predict\")  #--7x7(predicted output)\n",
    "# return r2, predict"
   ]
  },
  {
   "cell_type": "code",
   "execution_count": 13,
   "metadata": {
    "colab": {
     "base_uri": "https://localhost:8080/",
     "height": 170
    },
    "colab_type": "code",
    "id": "34I6q1MagTEr",
    "outputId": "6ae6f5c1-7381-4d7a-e50a-4fb7513edf69"
   },
   "outputs": [
    {
     "name": "stdout",
     "output_type": "stream",
     "text": [
      "WARNING:tensorflow:From <ipython-input-13-d98f16d67c47>:4: softmax_cross_entropy_with_logits (from tensorflow.python.ops.nn_ops) is deprecated and will be removed in a future version.\n",
      "Instructions for updating:\n",
      "\n",
      "Future major versions of TensorFlow will allow gradients to flow\n",
      "into the labels input on backprop by default.\n",
      "\n",
      "See `tf.nn.softmax_cross_entropy_with_logits_v2`.\n",
      "\n"
     ]
    }
   ],
   "source": [
    "static = tf.equal(tf.argmax(predict, 1), tf.argmax(label_x, 1))\n",
    "accuracy = tf.reduce_mean(tf.cast(static, tf.float32))\n",
    "\n",
    "loss = tf.nn.softmax_cross_entropy_with_logits(labels = label_x, logits = predict)\n",
    "loss = tf.reduce_mean(loss)\n",
    "optim = tf.train.RMSPropOptimizer(learning_rate = 0.01).minimize(loss)"
   ]
  },
  {
   "cell_type": "code",
   "execution_count": 0,
   "metadata": {
    "colab": {},
    "colab_type": "code",
    "id": "ylcxj2pvgS_O"
   },
   "outputs": [],
   "source": [
    "sess = tf.Session()\n",
    "sess.run(tf.global_variables_initializer())"
   ]
  },
  {
   "cell_type": "code",
   "execution_count": 15,
   "metadata": {
    "colab": {
     "base_uri": "https://localhost:8080/",
     "height": 3362
    },
    "colab_type": "code",
    "id": "IVGL29DCntAL",
    "outputId": "75320992-e257-40fe-ff16-8b8486bbede8"
   },
   "outputs": [
    {
     "name": "stdout",
     "output_type": "stream",
     "text": [
      "The value of Mean Cross Entropy Loss in Epoch # 1 is 1.842853307723999\n",
      "The value of Mean Cross Entropy Loss in Epoch # 2 is 1.8240020275115967\n",
      "The value of Mean Cross Entropy Loss in Epoch # 3 is 1.816138505935669\n",
      "The value of Mean Cross Entropy Loss in Epoch # 4 is 1.7800935506820679\n",
      "The value of Mean Cross Entropy Loss in Epoch # 5 is 1.7758151292800903\n",
      "The value of Mean Cross Entropy Loss in Epoch # 6 is 1.7783681154251099\n",
      "The value of Mean Cross Entropy Loss in Epoch # 7 is 1.7754805088043213\n",
      "The value of Mean Cross Entropy Loss in Epoch # 8 is 1.7311550378799438\n",
      "The value of Mean Cross Entropy Loss in Epoch # 9 is 1.7652714252471924\n",
      "The value of Mean Cross Entropy Loss in Epoch # 10 is 1.7289308309555054\n",
      "The value of Mean Cross Entropy Loss in Epoch # 11 is 1.791880488395691\n",
      "The value of Mean Cross Entropy Loss in Epoch # 12 is 1.5937230587005615\n",
      "The value of Mean Cross Entropy Loss in Epoch # 13 is 1.6936575174331665\n",
      "The value of Mean Cross Entropy Loss in Epoch # 14 is 1.6446781158447266\n",
      "The value of Mean Cross Entropy Loss in Epoch # 15 is 1.5291639566421509\n",
      "The value of Mean Cross Entropy Loss in Epoch # 16 is 1.588366150856018\n",
      "The value of Mean Cross Entropy Loss in Epoch # 17 is 1.4913215637207031\n",
      "The value of Mean Cross Entropy Loss in Epoch # 18 is 1.5385854244232178\n",
      "The value of Mean Cross Entropy Loss in Epoch # 19 is 1.527874231338501\n",
      "The value of Mean Cross Entropy Loss in Epoch # 20 is 1.6119556427001953\n",
      "The value of Mean Cross Entropy Loss in Epoch # 21 is 1.3957165479660034\n",
      "The value of Mean Cross Entropy Loss in Epoch # 22 is 1.3095237016677856\n",
      "The value of Mean Cross Entropy Loss in Epoch # 23 is 1.5518090724945068\n",
      "The value of Mean Cross Entropy Loss in Epoch # 24 is 1.306155800819397\n",
      "The value of Mean Cross Entropy Loss in Epoch # 25 is 1.3340530395507812\n",
      "The value of Mean Cross Entropy Loss in Epoch # 26 is 1.3309879302978516\n",
      "The value of Mean Cross Entropy Loss in Epoch # 27 is 1.3986200094223022\n",
      "The value of Mean Cross Entropy Loss in Epoch # 28 is 1.1903445720672607\n",
      "The value of Mean Cross Entropy Loss in Epoch # 29 is 1.46238112449646\n",
      "The value of Mean Cross Entropy Loss in Epoch # 30 is 1.1236135959625244\n",
      "The value of Mean Cross Entropy Loss in Epoch # 31 is 0.9137983322143555\n",
      "The value of Mean Cross Entropy Loss in Epoch # 32 is 0.9348662495613098\n",
      "The value of Mean Cross Entropy Loss in Epoch # 33 is 1.1292989253997803\n",
      "The value of Mean Cross Entropy Loss in Epoch # 34 is 1.1433073282241821\n",
      "The value of Mean Cross Entropy Loss in Epoch # 35 is 1.0413353443145752\n",
      "The value of Mean Cross Entropy Loss in Epoch # 36 is 1.2077724933624268\n",
      "The value of Mean Cross Entropy Loss in Epoch # 37 is 1.1205860376358032\n",
      "The value of Mean Cross Entropy Loss in Epoch # 38 is 0.6669408082962036\n",
      "The value of Mean Cross Entropy Loss in Epoch # 39 is 0.861151397228241\n",
      "The value of Mean Cross Entropy Loss in Epoch # 40 is 1.160715937614441\n",
      "The value of Mean Cross Entropy Loss in Epoch # 41 is 0.9779588580131531\n",
      "The value of Mean Cross Entropy Loss in Epoch # 42 is 1.1299793720245361\n",
      "The value of Mean Cross Entropy Loss in Epoch # 43 is 0.8549650311470032\n",
      "The value of Mean Cross Entropy Loss in Epoch # 44 is 1.2810447216033936\n",
      "The value of Mean Cross Entropy Loss in Epoch # 45 is 0.9995905756950378\n",
      "The value of Mean Cross Entropy Loss in Epoch # 46 is 0.8942633867263794\n",
      "The value of Mean Cross Entropy Loss in Epoch # 47 is 1.0128023624420166\n",
      "The value of Mean Cross Entropy Loss in Epoch # 48 is 1.4904905557632446\n",
      "The value of Mean Cross Entropy Loss in Epoch # 49 is 1.0283653736114502\n",
      "The value of Mean Cross Entropy Loss in Epoch # 50 is 1.2210031747817993\n",
      "The value of Mean Cross Entropy Loss in Epoch # 51 is 1.220192551612854\n",
      "The value of Mean Cross Entropy Loss in Epoch # 52 is 1.0508602857589722\n",
      "The value of Mean Cross Entropy Loss in Epoch # 53 is 0.9264096021652222\n",
      "The value of Mean Cross Entropy Loss in Epoch # 54 is 0.7960420250892639\n",
      "The value of Mean Cross Entropy Loss in Epoch # 55 is 0.7440990805625916\n",
      "The value of Mean Cross Entropy Loss in Epoch # 56 is 0.8000864386558533\n",
      "The value of Mean Cross Entropy Loss in Epoch # 57 is 0.6047006845474243\n",
      "The value of Mean Cross Entropy Loss in Epoch # 58 is 0.7185779213905334\n",
      "The value of Mean Cross Entropy Loss in Epoch # 59 is 1.201750636100769\n",
      "The value of Mean Cross Entropy Loss in Epoch # 60 is 0.8146788477897644\n",
      "The value of Mean Cross Entropy Loss in Epoch # 61 is 0.9490969777107239\n",
      "The value of Mean Cross Entropy Loss in Epoch # 62 is 0.6271528601646423\n",
      "The value of Mean Cross Entropy Loss in Epoch # 63 is 0.9102379083633423\n",
      "The value of Mean Cross Entropy Loss in Epoch # 64 is 0.5367327332496643\n",
      "The value of Mean Cross Entropy Loss in Epoch # 65 is 0.6463612914085388\n",
      "The value of Mean Cross Entropy Loss in Epoch # 66 is 0.5225673317909241\n",
      "The value of Mean Cross Entropy Loss in Epoch # 67 is 0.934810221195221\n",
      "The value of Mean Cross Entropy Loss in Epoch # 68 is 0.4329824447631836\n",
      "The value of Mean Cross Entropy Loss in Epoch # 69 is 0.8295239210128784\n",
      "The value of Mean Cross Entropy Loss in Epoch # 70 is 0.5172819495201111\n",
      "The value of Mean Cross Entropy Loss in Epoch # 71 is 0.7303068041801453\n",
      "The value of Mean Cross Entropy Loss in Epoch # 72 is 0.42998209595680237\n",
      "The value of Mean Cross Entropy Loss in Epoch # 73 is 0.6525548100471497\n",
      "The value of Mean Cross Entropy Loss in Epoch # 74 is 1.1185270547866821\n",
      "The value of Mean Cross Entropy Loss in Epoch # 75 is 0.7358315587043762\n",
      "The value of Mean Cross Entropy Loss in Epoch # 76 is 1.004185438156128\n",
      "The value of Mean Cross Entropy Loss in Epoch # 77 is 0.5939235687255859\n",
      "The value of Mean Cross Entropy Loss in Epoch # 78 is 1.0691142082214355\n",
      "The value of Mean Cross Entropy Loss in Epoch # 79 is 0.6018103361129761\n",
      "The value of Mean Cross Entropy Loss in Epoch # 80 is 0.879068911075592\n",
      "The value of Mean Cross Entropy Loss in Epoch # 81 is 0.6708164811134338\n",
      "The value of Mean Cross Entropy Loss in Epoch # 82 is 0.3439611792564392\n",
      "The value of Mean Cross Entropy Loss in Epoch # 83 is 0.8307693600654602\n",
      "The value of Mean Cross Entropy Loss in Epoch # 84 is 0.43441054224967957\n",
      "The value of Mean Cross Entropy Loss in Epoch # 85 is 0.7214096188545227\n",
      "The value of Mean Cross Entropy Loss in Epoch # 86 is 0.35704946517944336\n",
      "The value of Mean Cross Entropy Loss in Epoch # 87 is 0.5519302487373352\n",
      "The value of Mean Cross Entropy Loss in Epoch # 88 is 0.6910610198974609\n",
      "The value of Mean Cross Entropy Loss in Epoch # 89 is 0.7097466588020325\n",
      "The value of Mean Cross Entropy Loss in Epoch # 90 is 1.3374049663543701\n",
      "The value of Mean Cross Entropy Loss in Epoch # 91 is 0.46722981333732605\n",
      "The value of Mean Cross Entropy Loss in Epoch # 92 is 0.6822516322135925\n",
      "The value of Mean Cross Entropy Loss in Epoch # 93 is 0.7788626551628113\n",
      "The value of Mean Cross Entropy Loss in Epoch # 94 is 0.4601617753505707\n",
      "The value of Mean Cross Entropy Loss in Epoch # 95 is 0.39014869928359985\n",
      "The value of Mean Cross Entropy Loss in Epoch # 96 is 0.7421656250953674\n",
      "The value of Mean Cross Entropy Loss in Epoch # 97 is 0.6435067057609558\n",
      "The value of Mean Cross Entropy Loss in Epoch # 98 is 0.690630316734314\n",
      "The value of Mean Cross Entropy Loss in Epoch # 99 is 0.43361595273017883\n",
      "The value of Mean Cross Entropy Loss in Epoch # 100 is 0.8868507742881775\n",
      "The value of Mean Cross Entropy Loss in Epoch # 101 is 0.48781993985176086\n",
      "The value of Mean Cross Entropy Loss in Epoch # 102 is 0.4231533408164978\n",
      "The value of Mean Cross Entropy Loss in Epoch # 103 is 0.6536542773246765\n",
      "The value of Mean Cross Entropy Loss in Epoch # 104 is 0.8776284456253052\n",
      "The value of Mean Cross Entropy Loss in Epoch # 105 is 0.5208226442337036\n",
      "The value of Mean Cross Entropy Loss in Epoch # 106 is 0.7176997065544128\n",
      "The value of Mean Cross Entropy Loss in Epoch # 107 is 0.34398630261421204\n",
      "The value of Mean Cross Entropy Loss in Epoch # 108 is 0.8081061244010925\n",
      "The value of Mean Cross Entropy Loss in Epoch # 109 is 0.6506056189537048\n",
      "The value of Mean Cross Entropy Loss in Epoch # 110 is 0.707061767578125\n",
      "The value of Mean Cross Entropy Loss in Epoch # 111 is 0.6560555100440979\n",
      "The value of Mean Cross Entropy Loss in Epoch # 112 is 0.293146550655365\n",
      "The value of Mean Cross Entropy Loss in Epoch # 113 is 0.4148752689361572\n",
      "The value of Mean Cross Entropy Loss in Epoch # 114 is 0.4588872492313385\n",
      "The value of Mean Cross Entropy Loss in Epoch # 115 is 0.43634119629859924\n",
      "The value of Mean Cross Entropy Loss in Epoch # 116 is 0.574374794960022\n",
      "The value of Mean Cross Entropy Loss in Epoch # 117 is 0.7295097708702087\n",
      "The value of Mean Cross Entropy Loss in Epoch # 118 is 0.5298473238945007\n",
      "The value of Mean Cross Entropy Loss in Epoch # 119 is 0.9997397661209106\n",
      "The value of Mean Cross Entropy Loss in Epoch # 120 is 0.598272979259491\n",
      "The value of Mean Cross Entropy Loss in Epoch # 121 is 0.2131422609090805\n",
      "The value of Mean Cross Entropy Loss in Epoch # 122 is 0.37033674120903015\n",
      "The value of Mean Cross Entropy Loss in Epoch # 123 is 0.38462820649147034\n",
      "The value of Mean Cross Entropy Loss in Epoch # 124 is 0.7089892625808716\n",
      "The value of Mean Cross Entropy Loss in Epoch # 125 is 0.32983049750328064\n",
      "The value of Mean Cross Entropy Loss in Epoch # 126 is 0.34274783730506897\n",
      "The value of Mean Cross Entropy Loss in Epoch # 127 is 0.3250880837440491\n",
      "The value of Mean Cross Entropy Loss in Epoch # 128 is 0.5424321293830872\n",
      "The value of Mean Cross Entropy Loss in Epoch # 129 is 0.4519491195678711\n",
      "The value of Mean Cross Entropy Loss in Epoch # 130 is 0.3238184154033661\n",
      "The value of Mean Cross Entropy Loss in Epoch # 131 is 0.6639777421951294\n",
      "The value of Mean Cross Entropy Loss in Epoch # 132 is 0.2379797399044037\n",
      "The value of Mean Cross Entropy Loss in Epoch # 133 is 0.41983407735824585\n",
      "The value of Mean Cross Entropy Loss in Epoch # 134 is 0.7384503483772278\n",
      "The value of Mean Cross Entropy Loss in Epoch # 135 is 0.6791023015975952\n",
      "The value of Mean Cross Entropy Loss in Epoch # 136 is 0.45586416125297546\n",
      "The value of Mean Cross Entropy Loss in Epoch # 137 is 0.6485682725906372\n",
      "The value of Mean Cross Entropy Loss in Epoch # 138 is 0.5334950685501099\n",
      "The value of Mean Cross Entropy Loss in Epoch # 139 is 0.13789913058280945\n",
      "The value of Mean Cross Entropy Loss in Epoch # 140 is 0.5692647099494934\n",
      "The value of Mean Cross Entropy Loss in Epoch # 141 is 0.6461479067802429\n",
      "The value of Mean Cross Entropy Loss in Epoch # 142 is 0.36185741424560547\n",
      "The value of Mean Cross Entropy Loss in Epoch # 143 is 0.344282329082489\n",
      "The value of Mean Cross Entropy Loss in Epoch # 144 is 0.4891403615474701\n",
      "The value of Mean Cross Entropy Loss in Epoch # 145 is 0.4961566925048828\n",
      "The value of Mean Cross Entropy Loss in Epoch # 146 is 0.4166414141654968\n",
      "The value of Mean Cross Entropy Loss in Epoch # 147 is 0.28568175435066223\n",
      "The value of Mean Cross Entropy Loss in Epoch # 148 is 0.3317902386188507\n",
      "The value of Mean Cross Entropy Loss in Epoch # 149 is 0.16817273199558258\n",
      "The value of Mean Cross Entropy Loss in Epoch # 150 is 0.46963024139404297\n",
      "The value of Mean Cross Entropy Loss in Epoch # 151 is 0.714145839214325\n",
      "The value of Mean Cross Entropy Loss in Epoch # 152 is 0.3972505033016205\n",
      "The value of Mean Cross Entropy Loss in Epoch # 153 is 0.7513366937637329\n",
      "The value of Mean Cross Entropy Loss in Epoch # 154 is 0.6066882014274597\n",
      "The value of Mean Cross Entropy Loss in Epoch # 155 is 0.39576539397239685\n",
      "The value of Mean Cross Entropy Loss in Epoch # 156 is 0.3325570523738861\n",
      "The value of Mean Cross Entropy Loss in Epoch # 157 is 0.29521414637565613\n",
      "The value of Mean Cross Entropy Loss in Epoch # 158 is 0.4470938742160797\n",
      "The value of Mean Cross Entropy Loss in Epoch # 159 is 0.6119393110275269\n",
      "The value of Mean Cross Entropy Loss in Epoch # 160 is 0.3096785545349121\n",
      "The value of Mean Cross Entropy Loss in Epoch # 161 is 0.40943989157676697\n",
      "The value of Mean Cross Entropy Loss in Epoch # 162 is 0.29781439900398254\n",
      "The value of Mean Cross Entropy Loss in Epoch # 163 is 1.2380777597427368\n",
      "The value of Mean Cross Entropy Loss in Epoch # 164 is 0.4738287925720215\n",
      "The value of Mean Cross Entropy Loss in Epoch # 165 is 0.6170539259910583\n",
      "The value of Mean Cross Entropy Loss in Epoch # 166 is 0.7596645355224609\n",
      "The value of Mean Cross Entropy Loss in Epoch # 167 is 0.3614068925380707\n",
      "The value of Mean Cross Entropy Loss in Epoch # 168 is 0.5012059807777405\n",
      "The value of Mean Cross Entropy Loss in Epoch # 169 is 0.4615401327610016\n",
      "The value of Mean Cross Entropy Loss in Epoch # 170 is 0.8934202790260315\n",
      "The value of Mean Cross Entropy Loss in Epoch # 171 is 0.30858108401298523\n",
      "The value of Mean Cross Entropy Loss in Epoch # 172 is 0.3457925617694855\n",
      "The value of Mean Cross Entropy Loss in Epoch # 173 is 0.6062575578689575\n",
      "The value of Mean Cross Entropy Loss in Epoch # 174 is 0.35501447319984436\n",
      "The value of Mean Cross Entropy Loss in Epoch # 175 is 0.41155335307121277\n",
      "The value of Mean Cross Entropy Loss in Epoch # 176 is 0.3286830484867096\n",
      "The value of Mean Cross Entropy Loss in Epoch # 177 is 0.30307602882385254\n",
      "The value of Mean Cross Entropy Loss in Epoch # 178 is 0.25482407212257385\n",
      "The value of Mean Cross Entropy Loss in Epoch # 179 is 0.24527975916862488\n",
      "The value of Mean Cross Entropy Loss in Epoch # 180 is 0.4183562099933624\n",
      "The value of Mean Cross Entropy Loss in Epoch # 181 is 0.3731834888458252\n",
      "The value of Mean Cross Entropy Loss in Epoch # 182 is 0.3188157081604004\n",
      "The value of Mean Cross Entropy Loss in Epoch # 183 is 0.3502175211906433\n",
      "The value of Mean Cross Entropy Loss in Epoch # 184 is 0.3858506381511688\n",
      "The value of Mean Cross Entropy Loss in Epoch # 185 is 0.7173651456832886\n",
      "The value of Mean Cross Entropy Loss in Epoch # 186 is 0.31559959053993225\n",
      "The value of Mean Cross Entropy Loss in Epoch # 187 is 0.19609038531780243\n",
      "The value of Mean Cross Entropy Loss in Epoch # 188 is 0.3928670883178711\n",
      "The value of Mean Cross Entropy Loss in Epoch # 189 is 0.5060025453567505\n",
      "The value of Mean Cross Entropy Loss in Epoch # 190 is 0.32231399416923523\n",
      "The value of Mean Cross Entropy Loss in Epoch # 191 is 0.56116783618927\n",
      "The value of Mean Cross Entropy Loss in Epoch # 192 is 0.3830292224884033\n",
      "The value of Mean Cross Entropy Loss in Epoch # 193 is 0.1817004680633545\n",
      "The value of Mean Cross Entropy Loss in Epoch # 194 is 0.39207157492637634\n",
      "The value of Mean Cross Entropy Loss in Epoch # 195 is 0.28751111030578613\n",
      "The value of Mean Cross Entropy Loss in Epoch # 196 is 0.17037007212638855\n",
      "The value of Mean Cross Entropy Loss in Epoch # 197 is 0.25172311067581177\n",
      "The value of Mean Cross Entropy Loss in Epoch # 198 is 0.17272785305976868\n",
      "The value of Mean Cross Entropy Loss in Epoch # 199 is 0.37273886799812317\n",
      "The value of Mean Cross Entropy Loss in Epoch # 200 is 0.3511035144329071\n"
     ]
    }
   ],
   "source": [
    "epoch=200\n",
    "LossValues = []\n",
    "iterations = []\n",
    "\n",
    "for i in range(epoch):\n",
    "    feature_vector_arr, labels_arr = dataset(group,class_num)\n",
    "    labels_arr = to_categorical(labels_arr)\n",
    "    _ = sess.run([optim], feed_dict={input_x:feature_vector_arr, label_x:labels_arr})\n",
    "  \n",
    "    meanCrossEntropyLossValue = sess.run(loss, feed_dict={input_x:feature_vector_arr, label_x:labels_arr})\n",
    " \n",
    "    LossValues.append(meanCrossEntropyLossValue)\n",
    "    iterations.append((i+1))\n",
    "  \n",
    "    print(\"The value of Mean Cross Entropy Loss in Epoch # {} is {}\".format((i+1),meanCrossEntropyLossValue))\n",
    "\n",
    "  "
   ]
  },
  {
   "cell_type": "code",
   "execution_count": 17,
   "metadata": {
    "colab": {
     "base_uri": "https://localhost:8080/",
     "height": 33
    },
    "colab_type": "code",
    "id": "3RWQMBvMqKtF",
    "outputId": "b255c6e5-ac79-46a8-b35d-a32130f25aab"
   },
   "outputs": [
    {
     "name": "stdout",
     "output_type": "stream",
     "text": [
      "Accuracy of Aggregation Module: 1.0\n"
     ]
    }
   ],
   "source": [
    "acc = sess.run(accuracy,feed_dict={input_x:feature_vector_arr,label_x:labels_arr})\n",
    "print('Accuracy of Aggregation Module:',acc)"
   ]
  },
  {
   "cell_type": "code",
   "execution_count": 18,
   "metadata": {
    "colab": {
     "base_uri": "https://localhost:8080/",
     "height": 286
    },
    "colab_type": "code",
    "id": "QFHZtFz9ns9U",
    "outputId": "81020357-145a-43be-ef06-1b953985c27b"
   },
   "outputs": [
    {
     "data": {
      "text/plain": [
       "[<matplotlib.lines.Line2D at 0x7fb400f1a9b0>]"
      ]
     },
     "execution_count": 18,
     "metadata": {
      "tags": []
     },
     "output_type": "execute_result"
    },
    {
     "data": {
      "image/png": "[encoded data removed]",
      "text/plain": [
       "<Figure size 432x288 with 1 Axes>"
      ]
     },
     "metadata": {
      "tags": []
     },
     "output_type": "display_data"
    }
   ],
   "source": [
    "import matplotlib.pyplot as plt\n",
    "plt.plot(iterations,LossValues)"
   ]
  },
  {
   "cell_type": "code",
   "execution_count": 0,
   "metadata": {
    "colab": {},
    "colab_type": "code",
    "id": "qtNyKBYtns4G"
   },
   "outputs": [],
   "source": []
  },
  {
   "cell_type": "code",
   "execution_count": 0,
   "metadata": {
    "colab": {},
    "colab_type": "code",
    "id": "3TjhhiwensrH"
   },
   "outputs": [],
   "source": []
  }
 ],
 "metadata": {
  "accelerator": "GPU",
  "colab": {
   "name": "NAN_4.ipynb",
   "provenance": [],
   "version": "0.3.2"
  },
  "kernelspec": {
   "display_name": "Python 3",
   "language": "python",
   "name": "python3"
  },
  "language_info": {
   "codemirror_mode": {
    "name": "ipython",
    "version": 3
   },
   "file_extension": ".py",
   "mimetype": "text/x-python",
   "name": "python",
   "nbconvert_exporter": "python",
   "pygments_lexer": "ipython3",
   "version": "3.6.5"
  }
 },
 "nbformat": 4,
 "nbformat_minor": 1
}
