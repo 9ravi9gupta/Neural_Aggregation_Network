{
 "cells": [
  {
   "cell_type": "code",
   "execution_count": 11,
   "metadata": {
    "colab": {
     "base_uri": "https://localhost:8080/",
     "height": 120
    },
    "colab_type": "code",
    "id": "JIIPgtfwDSvd",
    "outputId": "b84f8131-98c8-4ef4-de61-c729c734afa9"
   },
   "outputs": [
    {
     "name": "stdout",
     "output_type": "stream",
     "text": [
      "Go to this URL in a browser: https://accounts.google.com/o/oauth2/auth?client_id=947318989803-6bn6qk8qdgf4n4g3pfee6491hc0brc4i.apps.googleusercontent.com&redirect_uri=urn%3Aietf%3Awg%3Aoauth%3A2.0%3Aoob&scope=email%20https%3A%2F%2Fwww.googleapis.com%2Fauth%2Fdocs.test%20https%3A%2F%2Fwww.googleapis.com%2Fauth%2Fdrive%20https%3A%2F%2Fwww.googleapis.com%2Fauth%2Fdrive.photos.readonly%20https%3A%2F%2Fwww.googleapis.com%2Fauth%2Fpeopleapi.readonly&response_type=code\n",
      "\n",
      "Enter your authorization code:\n",
      "··········\n",
      "Mounted at ./drive\n"
     ]
    }
   ],
   "source": [
    "from google.colab import drive\n",
    "drive.mount('./drive')"
   ]
  },
  {
   "cell_type": "markdown",
   "metadata": {},
   "source": [
    "## Data PreProcessing "
   ]
  },
  {
   "cell_type": "code",
   "execution_count": 12,
   "metadata": {
    "colab": {
     "base_uri": "https://localhost:8080/",
     "height": 33
    },
    "colab_type": "code",
    "id": "g19vN71iCddz",
    "outputId": "c04b26c9-9685-484f-899b-04164ea1642c"
   },
   "outputs": [
    {
     "name": "stderr",
     "output_type": "stream",
     "text": [
      "Using TensorFlow backend.\n"
     ]
    }
   ],
   "source": [
    "import numpy as np\n",
    "import matplotlib.pyplot as plt\n",
    "from keras.applications.vgg16 import VGG16\n",
    "from keras.applications.vgg16 import preprocess_input\n",
    "from keras.preprocessing import image\n",
    "import os\n",
    "from keras.utils import to_categorical"
   ]
  },
  {
   "cell_type": "code",
   "execution_count": null,
   "metadata": {},
   "outputs": [],
   "source": []
  },
  {
   "cell_type": "code",
   "execution_count": 0,
   "metadata": {
    "colab": {},
    "colab_type": "code",
    "id": "QqaLp9rmCdbZ"
   },
   "outputs": [],
   "source": [
    "X_train = np.load('drive/My Drive/dataset/X_train.npy')\n",
    "Y_train = np.load('drive/My Drive/dataset/y_train.npy')"
   ]
  },
  {
   "cell_type": "code",
   "execution_count": 0,
   "metadata": {
    "colab": {},
    "colab_type": "code",
    "id": "fxzo904zLMcW"
   },
   "outputs": [],
   "source": [
    "os.mkdir('images')  #--making directory for storing the reshaped images\n",
    " \n",
    "for i in range(X_train.shape[0]):\n",
    "    img = X_train[i].reshape(50,37)\n",
    "    filename = 'images'+'/train_Img_'+ str(i+1) + '.png'\n",
    "    plt.imsave(filename,img)\n",
    "    \n",
    "    \n",
    "#-- changing the dimensions of images from 50x37 to 224x224\n",
    "train_imgs = os.listdir('images')\n",
    "reshaped_train_imgs = []\n",
    "\n",
    "for img_name in train_imgs:\n",
    "    file_dir = 'images/' + img_name\n",
    "    img = image.load_img(file_dir,target_size=(224,224))\n",
    "    img = image.img_to_array(img)\n",
    "    reshaped_train_imgs.append(img)"
   ]
  },
  {
   "cell_type": "code",
   "execution_count": 17,
   "metadata": {
    "colab": {
     "base_uri": "https://localhost:8080/",
     "height": 33
    },
    "colab_type": "code",
    "id": "RWRW0WSGNBYC",
    "outputId": "637b093e-abef-4f97-9ef5-e85f11299b6e"
   },
   "outputs": [
    {
     "data": {
      "text/plain": [
       "(224, 224, 3)"
      ]
     },
     "execution_count": 17,
     "metadata": {
      "tags": []
     },
     "output_type": "execute_result"
    }
   ],
   "source": [
    "reshaped_train_imgs[0].shape"
   ]
  },
  {
   "cell_type": "code",
   "execution_count": 0,
   "metadata": {
    "colab": {},
    "colab_type": "code",
    "id": "6ns79LkdNBVi"
   },
   "outputs": [],
   "source": [
    "train_x = np.stack(reshaped_train_imgs)  #--stacking up all images into batches\n",
    "train_y = to_categorical(Y_train)"
   ]
  },
  {
   "cell_type": "code",
   "execution_count": 19,
   "metadata": {
    "colab": {
     "base_uri": "https://localhost:8080/",
     "height": 50
    },
    "colab_type": "code",
    "id": "CjVp5FdkaVHZ",
    "outputId": "cb232f1d-c44e-4333-f084-f2f9005093c6"
   },
   "outputs": [
    {
     "name": "stdout",
     "output_type": "stream",
     "text": [
      "(966, 224, 224, 3)\n",
      "(966, 7)\n"
     ]
    }
   ],
   "source": [
    "print(train_x.shape)\n",
    "print(train_y.shape)"
   ]
  },
  {
   "cell_type": "markdown",
   "metadata": {},
   "source": [
    "## Training "
   ]
  },
  {
   "cell_type": "code",
   "execution_count": 0,
   "metadata": {
    "colab": {},
    "colab_type": "code",
    "id": "W03btD35NBS7"
   },
   "outputs": [],
   "source": [
    "from keras.layers import Dense,Flatten,Input,Conv2D,BatchNormalization,MaxPool2D\n",
    "from keras.models import Sequential"
   ]
  },
  {
   "cell_type": "code",
   "execution_count": 16,
   "metadata": {
    "colab": {
     "base_uri": "https://localhost:8080/",
     "height": 87
    },
    "colab_type": "code",
    "id": "aTy1z8ArNBP_",
    "outputId": "fa50ba06-3788-45b8-f0c1-e2fdede7fb05"
   },
   "outputs": [
    {
     "name": "stdout",
     "output_type": "stream",
     "text": [
      "WARNING:tensorflow:From /usr/local/lib/python3.6/dist-packages/tensorflow/python/framework/op_def_library.py:263: colocate_with (from tensorflow.python.framework.ops) is deprecated and will be removed in a future version.\n",
      "Instructions for updating:\n",
      "Colocations handled automatically by placer.\n"
     ]
    }
   ],
   "source": [
    "model = Sequential()\n",
    "\n",
    "model.add(Conv2D(filters=64,kernel_size=[3,3],activation='relu',input_shape=(224,224,3)))\n",
    "model.add(MaxPool2D(pool_size=(2,2), strides=(2,2), padding='same'))\n",
    "\n",
    "model.add(BatchNormalization())\n",
    "model.add(Conv2D(filters=64,kernel_size=[3,3],activation='relu'))\n",
    "model.add(MaxPool2D(pool_size=(2,2), strides=(2,2), padding='same'))\n",
    "\n",
    "model.add(BatchNormalization())\n",
    "model.add(Conv2D(filters=64,kernel_size=[3,3],activation='relu'))\n",
    "model.add(MaxPool2D(pool_size=(2,2), strides=(2,2), padding='same'))\n",
    "\n",
    "model.add(BatchNormalization())\n",
    "model.add(Conv2D(filters=64,kernel_size=[3,3],activation='relu'))\n",
    "model.add(MaxPool2D(pool_size=(2,2), strides=(2,2), padding='same'))\n",
    "\n",
    "model.add(BatchNormalization())\n",
    "model.add(Flatten())\n",
    "\n",
    "model.add(Dense(units=128, activation='relu'))\n",
    "model.add(Dense(units=7,activation='softmax'))"
   ]
  },
  {
   "cell_type": "code",
   "execution_count": 0,
   "metadata": {
    "colab": {},
    "colab_type": "code",
    "id": "1K2mVKYBCdVo"
   },
   "outputs": [],
   "source": [
    "model.compile(loss='categorical_crossentropy', optimizer='adam', metrics=['accuracy'])"
   ]
  },
  {
   "cell_type": "code",
   "execution_count": 18,
   "metadata": {
    "colab": {
     "base_uri": "https://localhost:8080/",
     "height": 421
    },
    "colab_type": "code",
    "id": "g_fUibRqZJQ9",
    "outputId": "ef0302c9-9b0f-4f5a-c0f1-3578d883998d"
   },
   "outputs": [
    {
     "name": "stdout",
     "output_type": "stream",
     "text": [
      "WARNING:tensorflow:From /usr/local/lib/python3.6/dist-packages/tensorflow/python/ops/math_ops.py:3066: to_int32 (from tensorflow.python.ops.math_ops) is deprecated and will be removed in a future version.\n",
      "Instructions for updating:\n",
      "Use tf.cast instead.\n",
      "Epoch 1/10\n",
      "966/966 [==============================] - 247s 256ms/step - loss: 2.4870 - acc: 0.2909\n",
      "Epoch 2/10\n",
      "966/966 [==============================] - 242s 251ms/step - loss: 1.6036 - acc: 0.4244\n",
      "Epoch 3/10\n",
      "966/966 [==============================] - 244s 252ms/step - loss: 1.3334 - acc: 0.5104\n",
      "Epoch 4/10\n",
      "966/966 [==============================] - 243s 252ms/step - loss: 1.0746 - acc: 0.6087\n",
      "Epoch 5/10\n",
      "966/966 [==============================] - 243s 252ms/step - loss: 0.7960 - acc: 0.7184\n",
      "Epoch 6/10\n",
      "966/966 [==============================] - 243s 251ms/step - loss: 0.5748 - acc: 0.8106\n",
      "Epoch 7/10\n",
      "966/966 [==============================] - 243s 252ms/step - loss: 0.3933 - acc: 0.8820\n",
      "Epoch 8/10\n",
      "966/966 [==============================] - 242s 250ms/step - loss: 0.2072 - acc: 0.9524\n",
      "Epoch 9/10\n",
      "966/966 [==============================] - 242s 251ms/step - loss: 0.1248 - acc: 0.9834\n",
      "Epoch 10/10\n",
      "966/966 [==============================] - 242s 251ms/step - loss: 0.0953 - acc: 0.9814\n"
     ]
    }
   ],
   "source": [
    "history = model.fit(x=train_x, y=train_y, batch_size=64, epochs=10)"
   ]
  },
  {
   "cell_type": "code",
   "execution_count": 0,
   "metadata": {
    "colab": {},
    "colab_type": "code",
    "id": "uSXbIjp2DO5s"
   },
   "outputs": [],
   "source": []
  },
  {
   "cell_type": "code",
   "execution_count": 0,
   "metadata": {
    "colab": {},
    "colab_type": "code",
    "id": "0NIwpp161YXQ"
   },
   "outputs": [],
   "source": [
    "labels = Y_train.reshape(len(Y_train),1)"
   ]
  },
  {
   "cell_type": "code",
   "execution_count": 22,
   "metadata": {
    "colab": {
     "base_uri": "https://localhost:8080/",
     "height": 281
    },
    "colab_type": "code",
    "id": "fkKSalfvDcwZ",
    "outputId": "e400f010-468d-42a5-8205-28a8fdb1271c"
   },
   "outputs": [
    {
     "data": {
      "image/png": "[encoded data removed]",
      "text/plain": [
       "<Figure size 432x288 with 2 Axes>"
      ]
     },
     "metadata": {
      "tags": []
     },
     "output_type": "display_data"
    }
   ],
   "source": [
    "from matplotlib import pyplot\n",
    "\n",
    "pyplot.subplot(211)\n",
    "pyplot.title('Loss')\n",
    "pyplot.plot(history.history['loss'], label=labels[:,0])\n",
    "\n",
    "# pyplot.plot(history.history['val_loss'], label='test')\n",
    "# pyplot.legend()\n",
    "\n",
    "\n",
    "# plot accuracy during training\n",
    "pyplot.subplot(212)\n",
    "pyplot.title('Accuracy')\n",
    "pyplot.plot(history.history['acc'], label=labels[:,0])\n",
    "\n",
    "# pyplot.plot(history.history['val_acc'], label='test')\n",
    "# pyplot.legend()\n",
    "pyplot.show()"
   ]
  },
  {
   "cell_type": "code",
   "execution_count": 0,
   "metadata": {
    "colab": {},
    "colab_type": "code",
    "id": "IGky3UxvYDGC"
   },
   "outputs": [],
   "source": []
  },
  {
   "cell_type": "markdown",
   "metadata": {
    "colab": {},
    "colab_type": "code",
    "id": "ay97cXnGGSKj"
   },
   "source": [
    "## Saving Weights and Architecture of trained Model"
   ]
  },
  {
   "cell_type": "code",
   "execution_count": 0,
   "metadata": {
    "colab": {},
    "colab_type": "code",
    "id": "aderv3GzGSHt"
   },
   "outputs": [],
   "source": [
    "model.save_weights('drive/My Drive/dataset/model_weights.hdf5')\n",
    "\n",
    "model_yaml = model.to_yaml()  #--Serialize the Yaml\n",
    "\n",
    "with open('drive/My Drive/dataset/model_arch.yaml','w') as yaml_file:  #--saving the architecture of model\n",
    "    yaml_file.write(model_yaml)"
   ]
  },
  {
   "cell_type": "code",
   "execution_count": 0,
   "metadata": {
    "colab": {},
    "colab_type": "code",
    "id": "Nf7tE-PFGSEz"
   },
   "outputs": [],
   "source": []
  },
  {
   "cell_type": "code",
   "execution_count": 0,
   "metadata": {
    "colab": {},
    "colab_type": "code",
    "id": "Z9WAoTNDGSCM"
   },
   "outputs": [],
   "source": []
  }
 ],
 "metadata": {
  "colab": {
   "collapsed_sections": [],
   "name": "NAN_1.ipynb",
   "provenance": [],
   "toc_visible": true,
   "version": "0.3.2"
  },
  "kernelspec": {
   "display_name": "Python 3",
   "language": "python",
   "name": "python3"
  },
  "language_info": {
   "codemirror_mode": {
    "name": "ipython",
    "version": 3
   },
   "file_extension": ".py",
   "mimetype": "text/x-python",
   "name": "python",
   "nbconvert_exporter": "python",
   "pygments_lexer": "ipython3",
   "version": "3.6.5"
  }
 },
 "nbformat": 4,
 "nbformat_minor": 1
}
